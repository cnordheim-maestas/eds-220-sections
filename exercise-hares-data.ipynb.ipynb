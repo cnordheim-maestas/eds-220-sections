{
 "cells": [
  {
   "cell_type": "markdown",
   "id": "1cf19594-13f1-4e44-ba63-d20134795420",
   "metadata": {},
   "source": [
    "# Data Cleaning\n",
    "\n",
    "https://carmengg.github.io/eds-220-book/discussion-sections/ds2-hares.html\n",
    "Lab 10.19.23"
   ]
  },
  {
   "cell_type": "markdown",
   "id": "331cfe08-fc13-413a-b513-3e78a19d4fe2",
   "metadata": {},
   "source": [
    "## Archive exploration"
   ]
  },
  {
   "cell_type": "markdown",
   "id": "33bade18-ac12-4e1e-b39c-841300881085",
   "metadata": {},
   "source": [
    "Data: https://portal.edirepository.org/nis/mapbrowse?packageid=knb-lter-bnz.55.22\n",
    "\n",
    "Take some time to look through the dataset’s description in EDI and click around. Discuss the following questions with your team:\n",
    "\n",
    "What is this data about?\n",
    "During what time frame were the observations in the dataset collected?\n",
    "Does the dataset contain sensitive data?\n",
    "Is there a publication associated with this dataset?\n",
    "In your notebook: use a markdown cell to add a brief description of the dataset, including a citation, date of access, and a link to the archive.\n",
    "\n",
    "Capture mark recapture data of snowshoe hares in Alaska."
   ]
  },
  {
   "cell_type": "code",
   "execution_count": 13,
   "id": "3c695d99-f4e5-4aea-856d-d8e4bbf59aa5",
   "metadata": {
    "tags": []
   },
   "outputs": [
    {
     "name": "stdout",
     "output_type": "stream",
     "text": [
      "/usr/bin/sh: 1: Syntax error: \"(\" unexpected\n"
     ]
    }
   ],
   "source": [
    "## Adding an image\n",
    "# Syntax: ![image description](URL-goes-here)\n",
    "\n",
    "# Not working, group and TA are stumped ??\n",
    "![image description](data:image/jpeg;base64,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)"
   ]
  },
  {
   "cell_type": "markdown",
   "id": "cc1bb72f-1c75-40af-8121-3fc5fa35437e",
   "metadata": {},
   "source": [
    "## Data loading\n",
    "\n",
    "Back in your notebook, import the pandas package in a code cell and import the 55_Hare_Data_2012.txt from its URL using the pandas.read_csv(). Store it in a variable named hares. Take a look at the head of the dataframe."
   ]
  },
  {
   "cell_type": "code",
   "execution_count": 9,
   "id": "f412d4a9-5131-4f6d-997d-047a94245f03",
   "metadata": {
    "tags": []
   },
   "outputs": [],
   "source": [
    "import pandas as pd"
   ]
  },
  {
   "cell_type": "code",
   "execution_count": 15,
   "id": "d5f704ae-48b0-434a-8141-ffa157ed7e28",
   "metadata": {
    "tags": []
   },
   "outputs": [
    {
     "data": {
      "text/html": [
       "<div>\n",
       "<style scoped>\n",
       "    .dataframe tbody tr th:only-of-type {\n",
       "        vertical-align: middle;\n",
       "    }\n",
       "\n",
       "    .dataframe tbody tr th {\n",
       "        vertical-align: top;\n",
       "    }\n",
       "\n",
       "    .dataframe thead th {\n",
       "        text-align: right;\n",
       "    }\n",
       "</style>\n",
       "<table border=\"1\" class=\"dataframe\">\n",
       "  <thead>\n",
       "    <tr style=\"text-align: right;\">\n",
       "      <th></th>\n",
       "      <th>date</th>\n",
       "      <th>time</th>\n",
       "      <th>grid</th>\n",
       "      <th>trap</th>\n",
       "      <th>l_ear</th>\n",
       "      <th>r_ear</th>\n",
       "      <th>sex</th>\n",
       "      <th>age</th>\n",
       "      <th>weight</th>\n",
       "      <th>hindft</th>\n",
       "      <th>notes</th>\n",
       "      <th>b_key</th>\n",
       "      <th>session_id</th>\n",
       "      <th>study</th>\n",
       "    </tr>\n",
       "  </thead>\n",
       "  <tbody>\n",
       "    <tr>\n",
       "      <th>0</th>\n",
       "      <td>11/26/1998</td>\n",
       "      <td>NaN</td>\n",
       "      <td>bonrip</td>\n",
       "      <td>1A</td>\n",
       "      <td>414D096A08</td>\n",
       "      <td>NaN</td>\n",
       "      <td>NaN</td>\n",
       "      <td>NaN</td>\n",
       "      <td>1370.0</td>\n",
       "      <td>160.0</td>\n",
       "      <td>NaN</td>\n",
       "      <td>917.0</td>\n",
       "      <td>51</td>\n",
       "      <td>Population</td>\n",
       "    </tr>\n",
       "    <tr>\n",
       "      <th>1</th>\n",
       "      <td>11/26/1998</td>\n",
       "      <td>NaN</td>\n",
       "      <td>bonrip</td>\n",
       "      <td>2C</td>\n",
       "      <td>414D320671</td>\n",
       "      <td>NaN</td>\n",
       "      <td>M</td>\n",
       "      <td>NaN</td>\n",
       "      <td>1430.0</td>\n",
       "      <td>NaN</td>\n",
       "      <td>NaN</td>\n",
       "      <td>936.0</td>\n",
       "      <td>51</td>\n",
       "      <td>Population</td>\n",
       "    </tr>\n",
       "    <tr>\n",
       "      <th>2</th>\n",
       "      <td>11/26/1998</td>\n",
       "      <td>NaN</td>\n",
       "      <td>bonrip</td>\n",
       "      <td>2D</td>\n",
       "      <td>414D103E3A</td>\n",
       "      <td>NaN</td>\n",
       "      <td>M</td>\n",
       "      <td>NaN</td>\n",
       "      <td>1430.0</td>\n",
       "      <td>NaN</td>\n",
       "      <td>NaN</td>\n",
       "      <td>921.0</td>\n",
       "      <td>51</td>\n",
       "      <td>Population</td>\n",
       "    </tr>\n",
       "    <tr>\n",
       "      <th>3</th>\n",
       "      <td>11/26/1998</td>\n",
       "      <td>NaN</td>\n",
       "      <td>bonrip</td>\n",
       "      <td>2E</td>\n",
       "      <td>414D262D43</td>\n",
       "      <td>NaN</td>\n",
       "      <td>NaN</td>\n",
       "      <td>NaN</td>\n",
       "      <td>1490.0</td>\n",
       "      <td>135.0</td>\n",
       "      <td>NaN</td>\n",
       "      <td>931.0</td>\n",
       "      <td>51</td>\n",
       "      <td>Population</td>\n",
       "    </tr>\n",
       "    <tr>\n",
       "      <th>4</th>\n",
       "      <td>11/26/1998</td>\n",
       "      <td>NaN</td>\n",
       "      <td>bonrip</td>\n",
       "      <td>3B</td>\n",
       "      <td>414D2B4B58</td>\n",
       "      <td>NaN</td>\n",
       "      <td>NaN</td>\n",
       "      <td>NaN</td>\n",
       "      <td>1710.0</td>\n",
       "      <td>150.0</td>\n",
       "      <td>NaN</td>\n",
       "      <td>933.0</td>\n",
       "      <td>51</td>\n",
       "      <td>Population</td>\n",
       "    </tr>\n",
       "  </tbody>\n",
       "</table>\n",
       "</div>"
      ],
      "text/plain": [
       "         date time    grid trap       l_ear r_ear  sex  age  weight  hindft  \\\n",
       "0  11/26/1998  NaN  bonrip   1A  414D096A08   NaN  NaN  NaN  1370.0   160.0   \n",
       "1  11/26/1998  NaN  bonrip   2C  414D320671   NaN    M  NaN  1430.0     NaN   \n",
       "2  11/26/1998  NaN  bonrip   2D  414D103E3A   NaN    M  NaN  1430.0     NaN   \n",
       "3  11/26/1998  NaN  bonrip   2E  414D262D43   NaN  NaN  NaN  1490.0   135.0   \n",
       "4  11/26/1998  NaN  bonrip   3B  414D2B4B58   NaN  NaN  NaN  1710.0   150.0   \n",
       "\n",
       "  notes  b_key  session_id       study  \n",
       "0   NaN  917.0          51  Population  \n",
       "1   NaN  936.0          51  Population  \n",
       "2   NaN  921.0          51  Population  \n",
       "3   NaN  931.0          51  Population  \n",
       "4   NaN  933.0          51  Population  "
      ]
     },
     "execution_count": 15,
     "metadata": {},
     "output_type": "execute_result"
    }
   ],
   "source": [
    "hares = pd.read_csv('https://portal.edirepository.org/nis/dataviewer?packageid=knb-lter-bnz.55.22&entityid=f01f5d71be949b8c700b6ecd1c42c701')\n",
    "\n",
    "hares.head()"
   ]
  },
  {
   "cell_type": "markdown",
   "id": "95618114-241b-4085-80d8-96700dfd4039",
   "metadata": {},
   "source": [
    "## Metadata exploration"
   ]
  }
 ],
 "metadata": {
  "kernelspec": {
   "display_name": "Python 3 (ipykernel)",
   "language": "python",
   "name": "python3"
  },
  "language_info": {
   "codemirror_mode": {
    "name": "ipython",
    "version": 3
   },
   "file_extension": ".py",
   "mimetype": "text/x-python",
   "name": "python",
   "nbconvert_exporter": "python",
   "pygments_lexer": "ipython3",
   "version": "3.7.13"
  }
 },
 "nbformat": 4,
 "nbformat_minor": 5
}
