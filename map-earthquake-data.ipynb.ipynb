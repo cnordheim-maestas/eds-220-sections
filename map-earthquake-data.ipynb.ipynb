{
 "cells": [
  {
   "cell_type": "markdown",
   "id": "20f6e5e1-6e69-4d8f-bedd-68047eb13aee",
   "metadata": {},
   "source": [
    "# Lab Maps\n",
    "\n",
    "https://carmengg.github.io/eds-220-book/discussion-sections/ds3-earthquakes.html"
   ]
  },
  {
   "cell_type": "code",
   "execution_count": 1,
   "id": "70cc3560-9c01-47a6-9dc0-7629e07236eb",
   "metadata": {
    "tags": []
   },
   "outputs": [],
   "source": [
    "# libraries\n",
    "import geopandas as gpd\n",
    "import pandas as pd\n",
    "import matplotlib.pyplot as plt"
   ]
  },
  {
   "cell_type": "code",
   "execution_count": 13,
   "id": "0c88d070-e851-47de-abec-18ac6f460b9a",
   "metadata": {
    "tags": []
   },
   "outputs": [
    {
     "name": "stdout",
     "output_type": "stream",
     "text": [
      "Index(['time', 'latitude', 'longitude', 'depth', 'mag', 'id', 'place', 'type'], dtype='object')\n"
     ]
    }
   ],
   "source": [
    "# import data\n",
    "raw_eqk = pd.read_csv('https://raw.githubusercontent.com/carmengg/eds220-hwk-1/main/data/earthquake_data.csv')\n",
    "raw_eqk.head(2)\n",
    "\n",
    "pd.set_option('display.max.columns',None)\n",
    "\n",
    "# explore\n",
    "raw_eqk.describe()\n",
    "\n",
    "print(raw_eqk.columns)"
   ]
  },
  {
   "cell_type": "markdown",
   "id": "8d4c37e6-d97c-4a57-a656-dbcd1b6c6abf",
   "metadata": {},
   "source": [
    "## 15.1.2 Data selection\n",
    "\n",
    "1. Check which are the unique values for the type of earthquakes.\n",
    "2. Select only data with with type equal to ‘eartquake’ and magnitude greater than or equal to 6.5.\n",
    "3. Store this as a new dataframe called eqk."
   ]
  },
  {
   "cell_type": "code",
   "execution_count": 14,
   "id": "fc34666d-5e26-473e-8c40-a627e29d87ec",
   "metadata": {
    "tags": []
   },
   "outputs": [
    {
     "data": {
      "text/plain": [
       "array(['earthquake', 'quarry blast', 'quarry', 'mining explosion',\n",
       "       'rock burst', 'explosion', 'landslide', 'sonicboom', 'sonic boom',\n",
       "       'anthropogenic event', 'acoustic noise'], dtype=object)"
      ]
     },
     "execution_count": 14,
     "metadata": {},
     "output_type": "execute_result"
    }
   ],
   "source": [
    "# Check which are the unique values for the type of earthquakes.\n",
    "raw_eqk.type.unique()"
   ]
  },
  {
   "cell_type": "code",
   "execution_count": 20,
   "id": "b309a792-d64a-4d97-8081-809c6263ac7e",
   "metadata": {
    "tags": []
   },
   "outputs": [
    {
     "data": {
      "text/html": [
       "<div>\n",
       "<style scoped>\n",
       "    .dataframe tbody tr th:only-of-type {\n",
       "        vertical-align: middle;\n",
       "    }\n",
       "\n",
       "    .dataframe tbody tr th {\n",
       "        vertical-align: top;\n",
       "    }\n",
       "\n",
       "    .dataframe thead th {\n",
       "        text-align: right;\n",
       "    }\n",
       "</style>\n",
       "<table border=\"1\" class=\"dataframe\">\n",
       "  <thead>\n",
       "    <tr style=\"text-align: right;\">\n",
       "      <th></th>\n",
       "      <th>time</th>\n",
       "      <th>latitude</th>\n",
       "      <th>longitude</th>\n",
       "      <th>depth</th>\n",
       "      <th>mag</th>\n",
       "      <th>id</th>\n",
       "      <th>place</th>\n",
       "      <th>type</th>\n",
       "    </tr>\n",
       "  </thead>\n",
       "  <tbody>\n",
       "    <tr>\n",
       "      <th>9062</th>\n",
       "      <td>2014-01-01 16:03:29.000</td>\n",
       "      <td>-13.8633</td>\n",
       "      <td>167.2490</td>\n",
       "      <td>187.00</td>\n",
       "      <td>6.5</td>\n",
       "      <td>usc000lvb5</td>\n",
       "      <td>32km W of Sola, Vanuatu</td>\n",
       "      <td>earthquake</td>\n",
       "    </tr>\n",
       "    <tr>\n",
       "      <th>12142</th>\n",
       "      <td>2014-02-18 09:27:13.120</td>\n",
       "      <td>14.6682</td>\n",
       "      <td>-58.9272</td>\n",
       "      <td>14.83</td>\n",
       "      <td>6.5</td>\n",
       "      <td>usc000mskt</td>\n",
       "      <td>172km NNE of Bathsheba, Barbados</td>\n",
       "      <td>earthquake</td>\n",
       "    </tr>\n",
       "    <tr>\n",
       "      <th>14025</th>\n",
       "      <td>2014-02-12 09:19:49.060</td>\n",
       "      <td>35.9053</td>\n",
       "      <td>82.5864</td>\n",
       "      <td>10.00</td>\n",
       "      <td>6.9</td>\n",
       "      <td>usc000mnvj</td>\n",
       "      <td>272km ESE of Hotan, China</td>\n",
       "      <td>earthquake</td>\n",
       "    </tr>\n",
       "    <tr>\n",
       "      <th>15979</th>\n",
       "      <td>2014-02-07 08:40:13.550</td>\n",
       "      <td>-15.0691</td>\n",
       "      <td>167.3721</td>\n",
       "      <td>122.00</td>\n",
       "      <td>6.5</td>\n",
       "      <td>usc000mjye</td>\n",
       "      <td>34km E of Port-Olry, Vanuatu</td>\n",
       "      <td>earthquake</td>\n",
       "    </tr>\n",
       "    <tr>\n",
       "      <th>17606</th>\n",
       "      <td>2014-02-02 09:26:37.820</td>\n",
       "      <td>-32.9076</td>\n",
       "      <td>-177.8806</td>\n",
       "      <td>44.26</td>\n",
       "      <td>6.5</td>\n",
       "      <td>usc000mfm0</td>\n",
       "      <td>189km SSE of L'Esperance Rock, New Zealand</td>\n",
       "      <td>earthquake</td>\n",
       "    </tr>\n",
       "  </tbody>\n",
       "</table>\n",
       "</div>"
      ],
      "text/plain": [
       "                          time  latitude  longitude   depth  mag          id  \\\n",
       "9062   2014-01-01 16:03:29.000  -13.8633   167.2490  187.00  6.5  usc000lvb5   \n",
       "12142  2014-02-18 09:27:13.120   14.6682   -58.9272   14.83  6.5  usc000mskt   \n",
       "14025  2014-02-12 09:19:49.060   35.9053    82.5864   10.00  6.9  usc000mnvj   \n",
       "15979  2014-02-07 08:40:13.550  -15.0691   167.3721  122.00  6.5  usc000mjye   \n",
       "17606  2014-02-02 09:26:37.820  -32.9076  -177.8806   44.26  6.5  usc000mfm0   \n",
       "\n",
       "                                            place        type  \n",
       "9062                      32km W of Sola, Vanuatu  earthquake  \n",
       "12142            172km NNE of Bathsheba, Barbados  earthquake  \n",
       "14025                   272km ESE of Hotan, China  earthquake  \n",
       "15979                34km E of Port-Olry, Vanuatu  earthquake  \n",
       "17606  189km SSE of L'Esperance Rock, New Zealand  earthquake  "
      ]
     },
     "execution_count": 20,
     "metadata": {},
     "output_type": "execute_result"
    }
   ],
   "source": [
    "# Select only data with with type equal to ‘eartquake’ and magnitude greater than or equal to 6.5.\n",
    "# Store this as a new dataframe called eqk.\n",
    "\n",
    "# Step 1: Select only observations earthquake\n",
    "eqk =raw_eqk.loc[ raw_eqk.type==\"earthquake\" ]\n",
    "\n",
    "# Step 2: Select only mag >= 6.5\n",
    "eqk = eqk[eqk['mag'] >= 6.5]\n",
    "eqk.head()"
   ]
  },
  {
   "cell_type": "markdown",
   "id": "99998031-9c37-4b63-b767-7d5c18f4bb1c",
   "metadata": {},
   "source": [
    "## 15.1.3 pd.DataFrame to gpd.GeoDataFrame\n",
    "Overwrite eqk dataframe as a geopandas.GeoDataFrame. HINT: find the CRS of the dataset by looking at the metadata.\n",
    "Make a simple plot of the eqk data."
   ]
  },
  {
   "cell_type": "code",
   "execution_count": 23,
   "id": "fd2fbf71-373a-4191-b469-d9d7e3e8161c",
   "metadata": {
    "tags": []
   },
   "outputs": [],
   "source": [
    "# overwrite as geodataframe\n",
    "\n",
    "eqk = gpd.GeoDataFrame(eqk, #data\n",
    "                                # specify geometry column \n",
    "                                geometry = gpd.points_from_xy(eqk.longitude,\n",
    "                                                             eqk.latitude),   \n",
    "                                # crs\n",
    "                                crs='EPSG:4326'\n",
    "                               )"
   ]
  },
  {
   "cell_type": "code",
   "execution_count": 24,
   "id": "508abe8e-2d40-44c0-ac3b-30e6dad4b1be",
   "metadata": {
    "tags": []
   },
   "outputs": [
    {
     "data": {
      "text/plain": [
       "<AxesSubplot:>"
      ]
     },
     "execution_count": 24,
     "metadata": {},
     "output_type": "execute_result"
    },
    {
     "data": {
      "image/png": "[encoded data removed]",
      "text/plain": [
       "<Figure size 640x480 with 1 Axes>"
      ]
     },
     "metadata": {},
     "output_type": "display_data"
    }
   ],
   "source": [
    "eqk.plot()"
   ]
  },
  {
   "cell_type": "code",
   "execution_count": 25,
   "id": "75c4610b-964b-4481-a3f5-c24f2bde8cb1",
   "metadata": {
    "tags": []
   },
   "outputs": [
    {
     "data": {
      "text/html": [
       "<div>\n",
       "<style scoped>\n",
       "    .dataframe tbody tr th:only-of-type {\n",
       "        vertical-align: middle;\n",
       "    }\n",
       "\n",
       "    .dataframe tbody tr th {\n",
       "        vertical-align: top;\n",
       "    }\n",
       "\n",
       "    .dataframe thead th {\n",
       "        text-align: right;\n",
       "    }\n",
       "</style>\n",
       "<table border=\"1\" class=\"dataframe\">\n",
       "  <thead>\n",
       "    <tr style=\"text-align: right;\">\n",
       "      <th></th>\n",
       "      <th>pop_est</th>\n",
       "      <th>continent</th>\n",
       "      <th>name</th>\n",
       "      <th>iso_a3</th>\n",
       "      <th>gdp_md_est</th>\n",
       "      <th>geometry</th>\n",
       "    </tr>\n",
       "  </thead>\n",
       "  <tbody>\n",
       "    <tr>\n",
       "      <th>0</th>\n",
       "      <td>920938</td>\n",
       "      <td>Oceania</td>\n",
       "      <td>Fiji</td>\n",
       "      <td>FJI</td>\n",
       "      <td>8374.0</td>\n",
       "      <td>MULTIPOLYGON (((180.00000 -16.06713, 180.00000...</td>\n",
       "    </tr>\n",
       "    <tr>\n",
       "      <th>1</th>\n",
       "      <td>53950935</td>\n",
       "      <td>Africa</td>\n",
       "      <td>Tanzania</td>\n",
       "      <td>TZA</td>\n",
       "      <td>150600.0</td>\n",
       "      <td>POLYGON ((33.90371 -0.95000, 34.07262 -1.05982...</td>\n",
       "    </tr>\n",
       "    <tr>\n",
       "      <th>2</th>\n",
       "      <td>603253</td>\n",
       "      <td>Africa</td>\n",
       "      <td>W. Sahara</td>\n",
       "      <td>ESH</td>\n",
       "      <td>906.5</td>\n",
       "      <td>POLYGON ((-8.66559 27.65643, -8.66512 27.58948...</td>\n",
       "    </tr>\n",
       "    <tr>\n",
       "      <th>3</th>\n",
       "      <td>35623680</td>\n",
       "      <td>North America</td>\n",
       "      <td>Canada</td>\n",
       "      <td>CAN</td>\n",
       "      <td>1674000.0</td>\n",
       "      <td>MULTIPOLYGON (((-122.84000 49.00000, -122.9742...</td>\n",
       "    </tr>\n",
       "    <tr>\n",
       "      <th>4</th>\n",
       "      <td>326625791</td>\n",
       "      <td>North America</td>\n",
       "      <td>United States of America</td>\n",
       "      <td>USA</td>\n",
       "      <td>18560000.0</td>\n",
       "      <td>MULTIPOLYGON (((-122.84000 49.00000, -120.0000...</td>\n",
       "    </tr>\n",
       "    <tr>\n",
       "      <th>...</th>\n",
       "      <td>...</td>\n",
       "      <td>...</td>\n",
       "      <td>...</td>\n",
       "      <td>...</td>\n",
       "      <td>...</td>\n",
       "      <td>...</td>\n",
       "    </tr>\n",
       "    <tr>\n",
       "      <th>172</th>\n",
       "      <td>7111024</td>\n",
       "      <td>Europe</td>\n",
       "      <td>Serbia</td>\n",
       "      <td>SRB</td>\n",
       "      <td>101800.0</td>\n",
       "      <td>POLYGON ((18.82982 45.90887, 18.82984 45.90888...</td>\n",
       "    </tr>\n",
       "    <tr>\n",
       "      <th>173</th>\n",
       "      <td>642550</td>\n",
       "      <td>Europe</td>\n",
       "      <td>Montenegro</td>\n",
       "      <td>MNE</td>\n",
       "      <td>10610.0</td>\n",
       "      <td>POLYGON ((20.07070 42.58863, 19.80161 42.50009...</td>\n",
       "    </tr>\n",
       "    <tr>\n",
       "      <th>174</th>\n",
       "      <td>1895250</td>\n",
       "      <td>Europe</td>\n",
       "      <td>Kosovo</td>\n",
       "      <td>-99</td>\n",
       "      <td>18490.0</td>\n",
       "      <td>POLYGON ((20.59025 41.85541, 20.52295 42.21787...</td>\n",
       "    </tr>\n",
       "    <tr>\n",
       "      <th>175</th>\n",
       "      <td>1218208</td>\n",
       "      <td>North America</td>\n",
       "      <td>Trinidad and Tobago</td>\n",
       "      <td>TTO</td>\n",
       "      <td>43570.0</td>\n",
       "      <td>POLYGON ((-61.68000 10.76000, -61.10500 10.890...</td>\n",
       "    </tr>\n",
       "    <tr>\n",
       "      <th>176</th>\n",
       "      <td>13026129</td>\n",
       "      <td>Africa</td>\n",
       "      <td>S. Sudan</td>\n",
       "      <td>SSD</td>\n",
       "      <td>20880.0</td>\n",
       "      <td>POLYGON ((30.83385 3.50917, 29.95350 4.17370, ...</td>\n",
       "    </tr>\n",
       "  </tbody>\n",
       "</table>\n",
       "<p>177 rows × 6 columns</p>\n",
       "</div>"
      ],
      "text/plain": [
       "       pop_est      continent                      name iso_a3  gdp_md_est  \\\n",
       "0       920938        Oceania                      Fiji    FJI      8374.0   \n",
       "1     53950935         Africa                  Tanzania    TZA    150600.0   \n",
       "2       603253         Africa                 W. Sahara    ESH       906.5   \n",
       "3     35623680  North America                    Canada    CAN   1674000.0   \n",
       "4    326625791  North America  United States of America    USA  18560000.0   \n",
       "..         ...            ...                       ...    ...         ...   \n",
       "172    7111024         Europe                    Serbia    SRB    101800.0   \n",
       "173     642550         Europe                Montenegro    MNE     10610.0   \n",
       "174    1895250         Europe                    Kosovo    -99     18490.0   \n",
       "175    1218208  North America       Trinidad and Tobago    TTO     43570.0   \n",
       "176   13026129         Africa                  S. Sudan    SSD     20880.0   \n",
       "\n",
       "                                              geometry  \n",
       "0    MULTIPOLYGON (((180.00000 -16.06713, 180.00000...  \n",
       "1    POLYGON ((33.90371 -0.95000, 34.07262 -1.05982...  \n",
       "2    POLYGON ((-8.66559 27.65643, -8.66512 27.58948...  \n",
       "3    MULTIPOLYGON (((-122.84000 49.00000, -122.9742...  \n",
       "4    MULTIPOLYGON (((-122.84000 49.00000, -120.0000...  \n",
       "..                                                 ...  \n",
       "172  POLYGON ((18.82982 45.90887, 18.82984 45.90888...  \n",
       "173  POLYGON ((20.07070 42.58863, 19.80161 42.50009...  \n",
       "174  POLYGON ((20.59025 41.85541, 20.52295 42.21787...  \n",
       "175  POLYGON ((-61.68000 10.76000, -61.10500 10.890...  \n",
       "176  POLYGON ((30.83385 3.50917, 29.95350 4.17370, ...  \n",
       "\n",
       "[177 rows x 6 columns]"
      ]
     },
     "execution_count": 25,
     "metadata": {},
     "output_type": "execute_result"
    }
   ],
   "source": [
    "# 15.2 Import low-resolution countries polygons\n",
    "\n",
    "worldmap = gpd.read_file(gpd.datasets.get_path(\"naturalearth_lowres\"))\n",
    "worldmap"
   ]
  },
  {
   "cell_type": "markdown",
   "id": "68a901cc-bc0a-48ed-8a69-5277f6694985",
   "metadata": {},
   "source": [
    "## 15.3 Map\n",
    "Create a map of the earthquales of magnitude greater equal to 6.5 across the world in 2014. Color the points by the magnitude."
   ]
  },
  {
   "cell_type": "code",
   "execution_count": 26,
   "id": "205e61b1-280e-4eff-b203-b8124e4ef584",
   "metadata": {
    "tags": []
   },
   "outputs": [
    {
     "name": "stderr",
     "output_type": "stream",
     "text": [
      "/opt/python/3.7.13/lib/python3.7/site-packages/geopandas/plotting.py:51: ShapelyDeprecationWarning: The 'type' attribute is deprecated, and will be removed in the future. You can use the 'geom_type' attribute instead.\n",
      "  if geom is not None and geom.type.startswith(prefix) and not geom.is_empty:\n"
     ]
    },
    {
     "data": {
      "image/png": "[encoded data removed]",
      "text/plain": [
       "<Figure size 640x480 with 2 Axes>"
      ]
     },
     "metadata": {},
     "output_type": "display_data"
    }
   ],
   "source": [
    "fig, ax = plt.subplots()\n",
    "\n",
    "# add world plot\n",
    "worldmap.plot(ax=ax,\n",
    "            color='none',\n",
    "            edgecolor = 'slategray')\n",
    "\n",
    "# add eqks plants colored by mag\n",
    "eqk.plot(ax=ax, \n",
    "                  column='mag', # color points according to primsource value\n",
    "                  legend=True,    # add legend\n",
    "                  markersize = 4, # adjust point size\n",
    "                  cmap='tab20', # this color map has 20 different colors\n",
    "                  alpha=0.5)\n",
    "\n",
    "plt.show()"
   ]
  },
  {
   "cell_type": "code",
   "execution_count": null,
   "id": "81d86b45-2770-4aac-bcd9-da3da6fa4322",
   "metadata": {},
   "outputs": [],
   "source": []
  }
 ],
 "metadata": {
  "kernelspec": {
   "display_name": "Python 3 (ipykernel)",
   "language": "python",
   "name": "python3"
  },
  "language_info": {
   "codemirror_mode": {
    "name": "ipython",
    "version": 3
   },
   "file_extension": ".py",
   "mimetype": "text/x-python",
   "name": "python",
   "nbconvert_exporter": "python",
   "pygments_lexer": "ipython3",
   "version": "3.7.13"
  }
 },
 "nbformat": 4,
 "nbformat_minor": 5
}
